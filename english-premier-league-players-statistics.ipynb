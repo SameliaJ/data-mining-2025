{
 "cells": [
  {
   "cell_type": "markdown",
   "metadata": {
    "papermill": {
     "duration": 0.021885,
     "end_time": "2025-07-11T12:40:22.982355",
     "exception": false,
     "start_time": "2025-07-11T12:40:22.960470",
     "status": "completed"
    },
    "tags": []
   },
   "source": [
    "<div>    \n",
    "<img src=\"https://cdn.bleacherreport.net/images_root/slides/photos/000/587/176/Premier_League_original.jpg?1293083692\" width=\"500\"/> \n",
    "</div>\n",
    "\n",
    "[Image Source](https://cdn.bleacherreport.net/images_root/slides/photos/000/587/176/Premier_League_original.jpg?1293083692)\n",
    "\n",
    "# EDA on English Premier League Players Game Statistics \n",
    "---\n",
    "\n",
    "## Objectives:\n",
    "\n",
    "- Exploratory data anlysis on English Premier League players dataset.\n",
    "- Learn and apply data visualizatiosn techniques using plotly's data visualization library.\n",
    "\n",
    "---\n",
    "<a id=\"top\"></a>\n",
    "\n",
    "## Table of Contents\n",
    "* [1. Introduction](#1)\n",
    "    * [1.1 The Premier League](#1.1)\n",
    "    * [1.2 The Dataset](#1.2)\n",
    "    * [1.3 Data Pre-Processing](#1.3)\n",
    "* [2. General Statistics](#2)\n",
    "    * [2.1 Countries most represented in the EP](#2.1)\n",
    "    * [2.2 Players Appearances (nr. games](#2.2)\n",
    "    * [2.3 Players' Age](#2.3)\n",
    "* [3. Players Stats By Playing Position](#3)\n",
    "    * [3.1 Goalkeepers](#3.1)\n",
    "    * [3.2 Defenders](#3.2)\n",
    "    * [3.3 Midfielders](#3.3)\n",
    "    * [3.4 Forwards](#3.4)\n",
    "* [4. Other Statistics](#4)\n",
    "    * [4.1 Goal Distribution](#4.1)\n",
    "    * [4.2 Unwanted records](#4.2)\n",
    "* [5. Closing Remarks](#5)   \n",
    "* [6. References](#5)  \n",
    "---\n"
   ]
  },
  {
   "cell_type": "markdown",
   "metadata": {
    "papermill": {
     "duration": 0.019714,
     "end_time": "2025-07-11T12:40:23.022132",
     "exception": false,
     "start_time": "2025-07-11T12:40:23.002418",
     "status": "completed"
    },
    "tags": []
   },
   "source": [
    "## 1. Introduction <a class=\"anchor\" id=\"1\"></a>\n",
    "### 1.1 The Premier League <a class=\"anchor\" id=\"1.1\"></a>\n",
    "The Premier League, often referred outside England as the `English Premier League or the EPL for short`, is the top level of the English football league system. Contested by 20 clubs, it operates on a system of promotion and relegation with the English Football League (EFL). Seasons run from August to May with each team playing 38 matches (playing all 19 other teams both home and away). [[source](https://en.wikipedia.org/wiki/Premier_League)]\n",
    "\n",
    "### 1.2 The Dataset <a class=\"anchor\" id=\"1.2\"></a>\n",
    "\n",
    "The [dataset](https://www.kaggle.com/rishikeshkanabar/premier-league-player-statistics-updated-daily) is correct upto and including 2020-09-24 (a lot has has happened since then, notebook will be updated when the dataset gets an update). Each row in the data represents a football player currently playing in the EPL and the columns are features used to discribe players' data and game statistics. There are 571 rows and 59 columns in the data. Few of the columns are:\n",
    "\n",
    "* `Name`: Name of the player\n",
    "* `Club`: Club the player plays for at present\n",
    "* `Position`: Playing position(Goalkeeper, Defender, Mid-fider, Forward)\n",
    "* `Nationality`: Country the player is from\n",
    "* `Age`: Players age\n",
    "* `Appearances`: Number of games played (a substitute appearance aslo counts)\n",
    "* `Wins`: Number of games the palyer has won\n",
    "* `Losses`: Number of games the palyer has lost\n",
    "* `Goals`: Number of goals the player has scored in the EPL \n",
    "* `Goals` per match: Goals scored per game\n",
    "* `etcetra`.\n",
    "\n",
    "\n",
    "**Notes** : \n",
    "\n",
    "1. A player's attributes from previous premier league clubs are carried to his current club. \n",
    "2. When all-time stats are considered, obviously longevity in the game plays a big role. The longer the player has played in the EPL, the higher the stats (count of something for example) are going to be. Hence the *per-game* stat will be a better indicator of performance. On the other hand players who played too few games might appear as top-performers in thier per-game statistics. For this reason only players who played at least 38 games are considered (a full-season's worth of games) in the per-game comparison.\n"
   ]
  },
  {
   "cell_type": "code",
   "execution_count": 1,
   "metadata": {
    "_cell_guid": "b1076dfc-b9ad-4769-8c92-a6c4dae69d19",
    "_kg_hide-input": true,
    "_kg_hide-output": true,
    "_uuid": "8f2839f25d086af736a60e9eeb907d3b93b6e0e5",
    "execution": {
     "iopub.execute_input": "2025-07-11T12:40:23.070274Z",
     "iopub.status.busy": "2025-07-11T12:40:23.069541Z",
     "iopub.status.idle": "2025-07-11T12:40:25.033158Z",
     "shell.execute_reply": "2025-07-11T12:40:25.032482Z",
     "shell.execute_reply.started": "2025-07-11T12:32:29.910183Z"
    },
    "papermill": {
     "duration": 1.991172,
     "end_time": "2025-07-11T12:40:25.033316",
     "exception": false,
     "start_time": "2025-07-11T12:40:23.042144",
     "status": "completed"
    },
    "tags": []
   },
   "outputs": [
    {
     "data": {
      "text/html": [
       "        <script type=\"text/javascript\">\n",
       "        window.PlotlyConfig = {MathJaxConfig: 'local'};\n",
       "        if (window.MathJax) {MathJax.Hub.Config({SVG: {font: \"STIX-Web\"}});}\n",
       "        if (typeof require !== 'undefined') {\n",
       "        require.undef(\"plotly\");\n",
       "        requirejs.config({\n",
       "            paths: {\n",
       "                'plotly': ['https://cdn.plot.ly/plotly-latest.min']\n",
       "            }\n",
       "        });\n",
       "        require(['plotly'], function(Plotly) {\n",
       "            window._Plotly = Plotly;\n",
       "        });\n",
       "        }\n",
       "        </script>\n",
       "        "
      ]
     },
     "metadata": {},
     "output_type": "display_data"
    },
    {
     "name": "stdout",
     "output_type": "stream",
     "text": [
      "Shape of the dataset is (571, 59)\n"
     ]
    },
    {
     "data": {
      "text/html": [
       "<div>\n",
       "<style scoped>\n",
       "    .dataframe tbody tr th:only-of-type {\n",
       "        vertical-align: middle;\n",
       "    }\n",
       "\n",
       "    .dataframe tbody tr th {\n",
       "        vertical-align: top;\n",
       "    }\n",
       "\n",
       "    .dataframe thead th {\n",
       "        text-align: right;\n",
       "    }\n",
       "</style>\n",
       "<table border=\"1\" class=\"dataframe\">\n",
       "  <thead>\n",
       "    <tr style=\"text-align: right;\">\n",
       "      <th></th>\n",
       "      <th>Name</th>\n",
       "      <th>Jersey Number</th>\n",
       "      <th>Club</th>\n",
       "      <th>Position</th>\n",
       "      <th>Nationality</th>\n",
       "      <th>Age</th>\n",
       "      <th>Appearances</th>\n",
       "      <th>Wins</th>\n",
       "      <th>Losses</th>\n",
       "      <th>Goals</th>\n",
       "      <th>...</th>\n",
       "      <th>Punches</th>\n",
       "      <th>High Claims</th>\n",
       "      <th>Catches</th>\n",
       "      <th>Sweeper clearances</th>\n",
       "      <th>Throw outs</th>\n",
       "      <th>Goal Kicks</th>\n",
       "      <th>Yellow cards</th>\n",
       "      <th>Red cards</th>\n",
       "      <th>Fouls</th>\n",
       "      <th>Offsides</th>\n",
       "    </tr>\n",
       "  </thead>\n",
       "  <tbody>\n",
       "    <tr>\n",
       "      <th>0</th>\n",
       "      <td>Bernd Leno</td>\n",
       "      <td>1.0</td>\n",
       "      <td>Arsenal</td>\n",
       "      <td>Goalkeeper</td>\n",
       "      <td>Germany</td>\n",
       "      <td>28.0</td>\n",
       "      <td>64</td>\n",
       "      <td>28</td>\n",
       "      <td>16</td>\n",
       "      <td>0</td>\n",
       "      <td>...</td>\n",
       "      <td>34.0</td>\n",
       "      <td>26.0</td>\n",
       "      <td>17.0</td>\n",
       "      <td>28.0</td>\n",
       "      <td>375.0</td>\n",
       "      <td>489.0</td>\n",
       "      <td>2</td>\n",
       "      <td>0</td>\n",
       "      <td>0</td>\n",
       "      <td>NaN</td>\n",
       "    </tr>\n",
       "    <tr>\n",
       "      <th>1</th>\n",
       "      <td>Matt Macey</td>\n",
       "      <td>33.0</td>\n",
       "      <td>Arsenal</td>\n",
       "      <td>Goalkeeper</td>\n",
       "      <td>England</td>\n",
       "      <td>26.0</td>\n",
       "      <td>0</td>\n",
       "      <td>0</td>\n",
       "      <td>0</td>\n",
       "      <td>0</td>\n",
       "      <td>...</td>\n",
       "      <td>0.0</td>\n",
       "      <td>0.0</td>\n",
       "      <td>0.0</td>\n",
       "      <td>0.0</td>\n",
       "      <td>0.0</td>\n",
       "      <td>0.0</td>\n",
       "      <td>0</td>\n",
       "      <td>0</td>\n",
       "      <td>0</td>\n",
       "      <td>NaN</td>\n",
       "    </tr>\n",
       "    <tr>\n",
       "      <th>2</th>\n",
       "      <td>Rúnar Alex Rúnarsson</td>\n",
       "      <td>13.0</td>\n",
       "      <td>Arsenal</td>\n",
       "      <td>Goalkeeper</td>\n",
       "      <td>Iceland</td>\n",
       "      <td>25.0</td>\n",
       "      <td>0</td>\n",
       "      <td>0</td>\n",
       "      <td>0</td>\n",
       "      <td>0</td>\n",
       "      <td>...</td>\n",
       "      <td>0.0</td>\n",
       "      <td>0.0</td>\n",
       "      <td>0.0</td>\n",
       "      <td>0.0</td>\n",
       "      <td>0.0</td>\n",
       "      <td>0.0</td>\n",
       "      <td>0</td>\n",
       "      <td>0</td>\n",
       "      <td>0</td>\n",
       "      <td>NaN</td>\n",
       "    </tr>\n",
       "    <tr>\n",
       "      <th>3</th>\n",
       "      <td>Héctor Bellerín</td>\n",
       "      <td>2.0</td>\n",
       "      <td>Arsenal</td>\n",
       "      <td>Defender</td>\n",
       "      <td>Spain</td>\n",
       "      <td>25.0</td>\n",
       "      <td>160</td>\n",
       "      <td>90</td>\n",
       "      <td>37</td>\n",
       "      <td>7</td>\n",
       "      <td>...</td>\n",
       "      <td>NaN</td>\n",
       "      <td>NaN</td>\n",
       "      <td>NaN</td>\n",
       "      <td>NaN</td>\n",
       "      <td>NaN</td>\n",
       "      <td>NaN</td>\n",
       "      <td>23</td>\n",
       "      <td>0</td>\n",
       "      <td>125</td>\n",
       "      <td>8.0</td>\n",
       "    </tr>\n",
       "    <tr>\n",
       "      <th>4</th>\n",
       "      <td>Kieran Tierney</td>\n",
       "      <td>3.0</td>\n",
       "      <td>Arsenal</td>\n",
       "      <td>Defender</td>\n",
       "      <td>Scotland</td>\n",
       "      <td>23.0</td>\n",
       "      <td>16</td>\n",
       "      <td>7</td>\n",
       "      <td>5</td>\n",
       "      <td>1</td>\n",
       "      <td>...</td>\n",
       "      <td>NaN</td>\n",
       "      <td>NaN</td>\n",
       "      <td>NaN</td>\n",
       "      <td>NaN</td>\n",
       "      <td>NaN</td>\n",
       "      <td>NaN</td>\n",
       "      <td>2</td>\n",
       "      <td>0</td>\n",
       "      <td>9</td>\n",
       "      <td>0.0</td>\n",
       "    </tr>\n",
       "  </tbody>\n",
       "</table>\n",
       "<p>5 rows × 59 columns</p>\n",
       "</div>"
      ],
      "text/plain": [
       "                   Name  Jersey Number     Club    Position Nationality   Age  \\\n",
       "0            Bernd Leno            1.0  Arsenal  Goalkeeper     Germany  28.0   \n",
       "1            Matt Macey           33.0  Arsenal  Goalkeeper     England  26.0   \n",
       "2  Rúnar Alex Rúnarsson           13.0  Arsenal  Goalkeeper     Iceland  25.0   \n",
       "3       Héctor Bellerín            2.0  Arsenal    Defender       Spain  25.0   \n",
       "4        Kieran Tierney            3.0  Arsenal    Defender    Scotland  23.0   \n",
       "\n",
       "   Appearances  Wins  Losses  Goals  ...  Punches  High Claims  Catches  \\\n",
       "0           64    28      16      0  ...     34.0         26.0     17.0   \n",
       "1            0     0       0      0  ...      0.0          0.0      0.0   \n",
       "2            0     0       0      0  ...      0.0          0.0      0.0   \n",
       "3          160    90      37      7  ...      NaN          NaN      NaN   \n",
       "4           16     7       5      1  ...      NaN          NaN      NaN   \n",
       "\n",
       "   Sweeper clearances  Throw outs  Goal Kicks  Yellow cards  Red cards Fouls  \\\n",
       "0                28.0       375.0       489.0             2          0     0   \n",
       "1                 0.0         0.0         0.0             0          0     0   \n",
       "2                 0.0         0.0         0.0             0          0     0   \n",
       "3                 NaN         NaN         NaN            23          0   125   \n",
       "4                 NaN         NaN         NaN             2          0     9   \n",
       "\n",
       "   Offsides  \n",
       "0       NaN  \n",
       "1       NaN  \n",
       "2       NaN  \n",
       "3       8.0  \n",
       "4       0.0  \n",
       "\n",
       "[5 rows x 59 columns]"
      ]
     },
     "execution_count": 1,
     "metadata": {},
     "output_type": "execute_result"
    }
   ],
   "source": [
    "from itertools import repeat\n",
    "import numpy as np \n",
    "import matplotlib.pyplot as plt\n",
    "import pandas as pd \n",
    "pd.set_option('mode.chained_assignment', None)\n",
    "import seaborn as sns\n",
    "import plotly.io as pio\n",
    "pio.renderers.default = 'iframe'\n",
    "import plotly.express as px\n",
    "import plotly.graph_objects as go\n",
    "from plotly.offline import init_notebook_mode, iplot\n",
    "init_notebook_mode(connected=True)\n",
    "\n",
    "data = pd.read_csv('../input/premier-league-player-statistics-updated-daily/dataset - 2020-09-24.csv')\n",
    "data = data.copy()\n",
    "\n",
    "print('Shape of the dataset is {}'.format(data.shape))\n",
    "data.head()"
   ]
  },
  {
   "cell_type": "code",
   "execution_count": 2,
   "metadata": {
    "_kg_hide-input": true,
    "_kg_hide-output": true,
    "execution": {
     "iopub.execute_input": "2025-07-11T12:40:25.084293Z",
     "iopub.status.busy": "2025-07-11T12:40:25.083288Z",
     "iopub.status.idle": "2025-07-11T12:40:25.099411Z",
     "shell.execute_reply": "2025-07-11T12:40:25.098738Z",
     "shell.execute_reply.started": "2025-07-11T12:32:31.926217Z"
    },
    "papermill": {
     "duration": 0.044456,
     "end_time": "2025-07-11T12:40:25.099529",
     "exception": false,
     "start_time": "2025-07-11T12:40:25.055073",
     "status": "completed"
    },
    "tags": []
   },
   "outputs": [
    {
     "name": "stdout",
     "output_type": "stream",
     "text": [
      "<class 'pandas.core.frame.DataFrame'>\n",
      "RangeIndex: 571 entries, 0 to 570\n",
      "Data columns (total 59 columns):\n",
      " #   Column                  Non-Null Count  Dtype  \n",
      "---  ------                  --------------  -----  \n",
      " 0   Name                    571 non-null    object \n",
      " 1   Jersey Number           563 non-null    float64\n",
      " 2   Club                    571 non-null    object \n",
      " 3   Position                571 non-null    object \n",
      " 4   Nationality             570 non-null    object \n",
      " 5   Age                     570 non-null    float64\n",
      " 6   Appearances             571 non-null    int64  \n",
      " 7   Wins                    571 non-null    int64  \n",
      " 8   Losses                  571 non-null    int64  \n",
      " 9   Goals                   571 non-null    int64  \n",
      " 10  Goals per match         309 non-null    float64\n",
      " 11  Headed goals            502 non-null    float64\n",
      " 12  Goals with right foot   502 non-null    float64\n",
      " 13  Goals with left foot    502 non-null    float64\n",
      " 14  Penalties scored        309 non-null    float64\n",
      " 15  Freekicks scored        309 non-null    float64\n",
      " 16  Shots                   309 non-null    float64\n",
      " 17  Shots on target         309 non-null    float64\n",
      " 18  Shooting accuracy %     309 non-null    object \n",
      " 19  Hit woodwork            502 non-null    float64\n",
      " 20  Big chances missed      309 non-null    float64\n",
      " 21  Clean sheets            262 non-null    float64\n",
      " 22  Goals conceded          262 non-null    float64\n",
      " 23  Tackles                 502 non-null    float64\n",
      " 24  Tackle success %        390 non-null    object \n",
      " 25  Last man tackles        193 non-null    float64\n",
      " 26  Blocked shots           502 non-null    float64\n",
      " 27  Interceptions           502 non-null    float64\n",
      " 28  Clearances              502 non-null    float64\n",
      " 29  Headed Clearance        502 non-null    float64\n",
      " 30  Clearances off line     193 non-null    float64\n",
      " 31  Recoveries              390 non-null    float64\n",
      " 32  Duels won               390 non-null    float64\n",
      " 33  Duels lost              390 non-null    float64\n",
      " 34  Successful 50/50s       390 non-null    float64\n",
      " 35  Aerial battles won      390 non-null    float64\n",
      " 36  Aerial battles lost     390 non-null    float64\n",
      " 37  Own goals               262 non-null    float64\n",
      " 38  Errors leading to goal  459 non-null    float64\n",
      " 39  Assists                 571 non-null    int64  \n",
      " 40  Passes                  571 non-null    int64  \n",
      " 41  Passes per match        571 non-null    float64\n",
      " 42  Big chances created     502 non-null    float64\n",
      " 43  Crosses                 502 non-null    float64\n",
      " 44  Cross accuracy %        390 non-null    object \n",
      " 45  Through balls           390 non-null    float64\n",
      " 46  Accurate long balls     459 non-null    float64\n",
      " 47  Saves                   69 non-null     float64\n",
      " 48  Penalties saved         69 non-null     float64\n",
      " 49  Punches                 69 non-null     float64\n",
      " 50  High Claims             69 non-null     float64\n",
      " 51  Catches                 69 non-null     float64\n",
      " 52  Sweeper clearances      69 non-null     float64\n",
      " 53  Throw outs              69 non-null     float64\n",
      " 54  Goal Kicks              69 non-null     float64\n",
      " 55  Yellow cards            571 non-null    int64  \n",
      " 56  Red cards               571 non-null    int64  \n",
      " 57  Fouls                   571 non-null    int64  \n",
      " 58  Offsides                502 non-null    float64\n",
      "dtypes: float64(43), int64(9), object(7)\n",
      "memory usage: 263.3+ KB\n"
     ]
    }
   ],
   "source": [
    "data.info()"
   ]
  },
  {
   "cell_type": "markdown",
   "metadata": {
    "papermill": {
     "duration": 0.022197,
     "end_time": "2025-07-11T12:40:25.143664",
     "exception": false,
     "start_time": "2025-07-11T12:40:25.121467",
     "status": "completed"
    },
    "tags": []
   },
   "source": [
    "### 1.3 Data pre-processing <a class=\"anchor\" id=\"1.3\"></a>"
   ]
  },
  {
   "cell_type": "code",
   "execution_count": 3,
   "metadata": {
    "_kg_hide-input": true,
    "_kg_hide-output": true,
    "execution": {
     "iopub.execute_input": "2025-07-11T12:40:25.209541Z",
     "iopub.status.busy": "2025-07-11T12:40:25.208382Z",
     "iopub.status.idle": "2025-07-11T12:40:25.269139Z",
     "shell.execute_reply": "2025-07-11T12:40:25.269622Z",
     "shell.execute_reply.started": "2025-07-11T12:32:31.948027Z"
    },
    "papermill": {
     "duration": 0.103004,
     "end_time": "2025-07-11T12:40:25.269797",
     "exception": false,
     "start_time": "2025-07-11T12:40:25.166793",
     "status": "completed"
    },
    "tags": []
   },
   "outputs": [],
   "source": [
    "# Remove entries which do not have age, jersey number and nationality \n",
    "data = data[data['Nationality'].notna()]\n",
    "data = data[data['Age'].notna()]\n",
    "data = data[data['Jersey Number'].notna()]\n",
    "\n",
    "# cleaning the percentage sign\n",
    "data['Cross accuracy %'] = data['Cross accuracy %'].str.replace(r'%', '').astype(float)\n",
    "data['Shooting accuracy %'] = data['Shooting accuracy %'].str.replace(r'%', '').astype(float)\n",
    "data['Tackle success %'] = data['Tackle success %'].str.replace(r'%', '').astype(float)\n",
    "\n",
    "features = data.columns\n",
    "data_clean = data[features]\n",
    "data_clean.head()\n",
    "\n",
    "data_clean_appNonZero = data_clean[data_clean['Appearances'] > 0] #prevents division by zero for players who are yet to make appearances\n",
    "\n",
    "# take care off the data type for division\n",
    "# separate cols with dtype objects and cols that may not be divided by appearances\n",
    "\n",
    "cols = features.drop(['Age', 'Name', 'Appearances', 'Club', 'Nationality', 'Jersey Number', 'Cross accuracy %', 'Position', 'Goals per match', \n",
    "                      'Passes per match','Tackle success %', 'Shooting accuracy %'])\n",
    "data_clean_appNonZero.loc[:, cols] = data_clean_appNonZero.loc[:, cols].div(data_clean_appNonZero['Appearances'], axis=0)\n",
    "\n",
    "# positional classifications on the data as is\n",
    "goalies = data[data['Position'] == 'Goalkeeper']\n",
    "defenders = data[data['Position'] == 'Defender']\n",
    "midfielders = data[data['Position'] == 'Midfielder']\n",
    "forwards = data[data['Position'] == 'Forward']\n",
    "\n",
    "# palyers who have made atleast 38 games (a seasons worth games)\n",
    "# data as is\n",
    "data_38app = data[data['Appearances'] >=38]\n",
    "goalies_38app = goalies[goalies['Appearances'] >= 38]\n",
    "defenders_38app = defenders[defenders['Appearances'] >= 38]\n",
    "midfilders_38app = midfielders[midfielders['Appearances'] >= 38]\n",
    "forwards_38app = forwards[forwards['Appearances'] >= 38]\n",
    "\n",
    "# palyers who have made atleast 38 games (a seasons worth games)\n",
    "# data normalized\n",
    "all_players = data_clean_appNonZero[data_clean_appNonZero['Appearances'] >= 38]\n",
    "goalies_ = data_clean_appNonZero[(data_clean_appNonZero['Position'] == 'Goalkeeper') & (data_clean_appNonZero['Appearances'] >= 38)]\n",
    "defenders_ = data_clean_appNonZero[(data_clean_appNonZero['Position'] == 'Defender') & (data_clean_appNonZero['Appearances'] >= 38)]\n",
    "midfielders_ = data_clean_appNonZero[(data_clean_appNonZero['Position'] == 'Midfielder') & (data_clean_appNonZero['Appearances'] >= 38)]\n",
    "forwards_ = data_clean_appNonZero[(data_clean_appNonZero['Position'] == 'Forward') & (data_clean_appNonZero['Appearances'] >= 38)]"
   ]
  },
  {
   "cell_type": "markdown",
   "metadata": {
    "papermill": {
     "duration": 0.021604,
     "end_time": "2025-07-11T12:40:25.313917",
     "exception": false,
     "start_time": "2025-07-11T12:40:25.292313",
     "status": "completed"
    },
    "tags": []
   },
   "source": [
    "<a href=\"#top\">Back to top</a>  \n",
    "\n",
    "## 2. General Statistics <a class=\"anchor\" id=\"2\"></a>\n",
    "### 2.1 Countries most represented in the EPL <a class=\"anchor\" id=\"2.1\"></a>\n",
    "\n",
    "In any league it is normal to have more home-grown players than foreign palyers and the EPL is no different. The majority of the players are English. Other UK member countries will also likely have more representations. The question is which country comes next? The first thing that can be a factor is geographyical proximity. What comes after that would be likely to be determined by talent baring workpermit issue and visa-related challenges that could prevent some players from playing/working in the EPL. But that is a rarity. Below are the top three nations after home country (England) ranked by overall apprearances and further breakdown by players playing positions.\n",
    "\n",
    "#### Summary most represented nations:\n",
    "\n",
    "* Overall: 1st **France**, 2nd **Spain**, 3rd *Brazil*\n",
    "* Goalkeepers: 1st **Spain**, 2nd Denmark, 3rd **France**\n",
    "* Defenders: 1st **Spain**, 2nd Nederland, 3rd *Ireland*\n",
    "* Midfielders: 1st *Scotland*, 2nd **France**, 3rd **Spain**\n",
    "* Forwards: 1st *Brazil*, 2nd **France**, 3rd *Ireland*\n",
    "\n",
    "**French** and **Spanish** players found their second home in England. Honorable mention to **Brazil**"
   ]
  },
  {
   "cell_type": "code",
   "execution_count": 4,
   "metadata": {
    "_kg_hide-input": true,
    "execution": {
     "iopub.execute_input": "2025-07-11T12:40:25.364666Z",
     "iopub.status.busy": "2025-07-11T12:40:25.363717Z",
     "iopub.status.idle": "2025-07-11T12:40:26.465928Z",
     "shell.execute_reply": "2025-07-11T12:40:26.466422Z",
     "shell.execute_reply.started": "2025-07-11T12:32:35.212169Z"
    },
    "papermill": {
     "duration": 1.130903,
     "end_time": "2025-07-11T12:40:26.466581",
     "exception": false,
     "start_time": "2025-07-11T12:40:25.335678",
     "status": "completed"
    },
    "tags": []
   },
   "outputs": [
    {
     "data": {
      "text/html": [
       "<iframe\n",
       "    scrolling=\"no\"\n",
       "    width=\"620px\"\n",
       "    height=\"620\"\n",
       "    src=\"iframe_figures/figure_4.html\"\n",
       "    frameborder=\"0\"\n",
       "    allowfullscreen\n",
       "></iframe>\n"
      ]
     },
     "metadata": {},
     "output_type": "display_data"
    }
   ],
   "source": [
    "df = data\n",
    "fig = px.pie(df,\n",
    "             values='Appearances',\n",
    "             names='Nationality',\n",
    "             title='Countries represented in the EPL by number of appearances',\n",
    "             )\n",
    "fig.update_traces(textposition='inside', textinfo='percent+label')\n",
    "fig.update_layout(title_text='<b> Nr. of appearances per country <b>', \n",
    "                  title_x=0.5, \n",
    "                  titlefont=dict(color='black', \n",
    "                            size=28, \n",
    "                            family=\"Courier New, monospace\",),\n",
    "                  width=600,\n",
    "                  height=600,\n",
    "                  showlegend=False,\n",
    "                 )\n",
    "fig.show(renderer=\"iframe\")"
   ]
  },
  {
   "cell_type": "code",
   "execution_count": 5,
   "metadata": {
    "_kg_hide-input": true,
    "execution": {
     "iopub.execute_input": "2025-07-11T12:40:26.521702Z",
     "iopub.status.busy": "2025-07-11T12:40:26.519059Z",
     "iopub.status.idle": "2025-07-11T12:40:26.675582Z",
     "shell.execute_reply": "2025-07-11T12:40:26.674865Z",
     "shell.execute_reply.started": "2025-07-11T12:32:36.398817Z"
    },
    "papermill": {
     "duration": 0.187175,
     "end_time": "2025-07-11T12:40:26.675717",
     "exception": false,
     "start_time": "2025-07-11T12:40:26.488542",
     "status": "completed"
    },
    "tags": []
   },
   "outputs": [
    {
     "data": {
      "text/html": [
       "<iframe\n",
       "    scrolling=\"no\"\n",
       "    width=\"620px\"\n",
       "    height=\"620\"\n",
       "    src=\"iframe_figures/figure_5.html\"\n",
       "    frameborder=\"0\"\n",
       "    allowfullscreen\n",
       "></iframe>\n"
      ]
     },
     "metadata": {},
     "output_type": "display_data"
    }
   ],
   "source": [
    "df = data\n",
    "fig = px.sunburst(df, \n",
    "                   path=['Position', 'Nationality'], \n",
    "                   values='Appearances', \n",
    "                 )\n",
    "fig.update_layout(title_text='<b>Players position by country <b>', \n",
    "                  title_x=0.5, \n",
    "                  titlefont=dict(color='black', \n",
    "                            size=28, \n",
    "                            family=\"Courier New, monospace\",),\n",
    "                  width=600,\n",
    "                  height=600,\n",
    "                  showlegend=False,\n",
    "                 )\n",
    "fig.show(renderer=\"iframe\")"
   ]
  },
  {
   "cell_type": "markdown",
   "metadata": {
    "papermill": {
     "duration": 0.022024,
     "end_time": "2025-07-11T12:40:26.719803",
     "exception": false,
     "start_time": "2025-07-11T12:40:26.697779",
     "status": "completed"
    },
    "tags": []
   },
   "source": [
    "### 2.2 Players Appearances (nr. games) <a class=\"anchor\" id=\"2.2\"></a>\n",
    "\n",
    "Longevity, versatility, quality of the player & the squad and  playing position are major factors for number of appearances.  \n",
    "\n",
    "Most of the appearances come from defence and midfield position. No surprise here. If the most common line-ups/systems (4-4-2, 4-5-1, 3-5-2, 4-3-3) are averaged they would look like in the graph below. Usually midfielders are versatile and can play in defence or in attack if needed. So they constitute the majority of a given squad.\n",
    "\n",
    "#### Summary most appearances\n",
    "\n",
    "- Goalkeeper: Joe Hart, 340\n",
    "- Defender: Phil Jagielka, 366\n",
    "- Midfielder: James Milner, 539\n",
    "- Forward: Theo Walcott, 346"
   ]
  },
  {
   "cell_type": "code",
   "execution_count": 6,
   "metadata": {
    "_kg_hide-input": true,
    "execution": {
     "iopub.execute_input": "2025-07-11T12:40:26.779880Z",
     "iopub.status.busy": "2025-07-11T12:40:26.778740Z",
     "iopub.status.idle": "2025-07-11T12:40:27.054943Z",
     "shell.execute_reply": "2025-07-11T12:40:27.054303Z",
     "shell.execute_reply.started": "2025-07-11T12:32:36.552851Z"
    },
    "papermill": {
     "duration": 0.313261,
     "end_time": "2025-07-11T12:40:27.055072",
     "exception": false,
     "start_time": "2025-07-11T12:40:26.741811",
     "status": "completed"
    },
    "tags": []
   },
   "outputs": [
    {
     "data": {
      "text/html": [
       "<iframe\n",
       "    scrolling=\"no\"\n",
       "    width=\"770px\"\n",
       "    height=\"620\"\n",
       "    src=\"iframe_figures/figure_6.html\"\n",
       "    frameborder=\"0\"\n",
       "    allowfullscreen\n",
       "></iframe>\n"
      ]
     },
     "metadata": {},
     "output_type": "display_data"
    }
   ],
   "source": [
    "df = data\n",
    "fig = px.bar(df, x=\"Position\", y=\"Appearances\",color='Club',\n",
    "             hover_data=[\"Name\"],\n",
    "             width=750, height=600,)\n",
    "fig.update_layout(\n",
    "             template='ggplot2',\n",
    "             title='<b>Players appearance by position<b>',\n",
    "             titlefont={'size':24})\n",
    "fig.show(renderer=\"iframe\")"
   ]
  },
  {
   "cell_type": "code",
   "execution_count": 7,
   "metadata": {
    "_kg_hide-input": true,
    "execution": {
     "iopub.execute_input": "2025-07-11T12:40:27.116160Z",
     "iopub.status.busy": "2025-07-11T12:40:27.115442Z",
     "iopub.status.idle": "2025-07-11T12:40:27.221656Z",
     "shell.execute_reply": "2025-07-11T12:40:27.220971Z",
     "shell.execute_reply.started": "2025-07-11T12:32:36.832545Z"
    },
    "papermill": {
     "duration": 0.143463,
     "end_time": "2025-07-11T12:40:27.221790",
     "exception": false,
     "start_time": "2025-07-11T12:40:27.078327",
     "status": "completed"
    },
    "tags": []
   },
   "outputs": [
    {
     "data": {
      "text/html": [
       "<iframe\n",
       "    scrolling=\"no\"\n",
       "    width=\"770px\"\n",
       "    height=\"620\"\n",
       "    src=\"iframe_figures/figure_7.html\"\n",
       "    frameborder=\"0\"\n",
       "    allowfullscreen\n",
       "></iframe>\n"
      ]
     },
     "metadata": {},
     "output_type": "display_data"
    }
   ],
   "source": [
    "fig = px.bar(df, y=\"Club\", x=\"Appearances\",color='Position',\n",
    "             hover_data=[\"Name\"],\n",
    "             width=750, \n",
    "             height=600,\n",
    "             )\n",
    "fig.update_layout(\n",
    "             template='ggplot2',\n",
    "             title='<b>Appearance by club<b>',\n",
    "             titlefont={'size':24},\n",
    ")\n",
    "\n",
    "fig.show(renderer=\"iframe\")"
   ]
  },
  {
   "cell_type": "markdown",
   "metadata": {
    "papermill": {
     "duration": 0.022137,
     "end_time": "2025-07-11T12:40:27.267039",
     "exception": false,
     "start_time": "2025-07-11T12:40:27.244902",
     "status": "completed"
    },
    "tags": []
   },
   "source": [
    "### 2.3 Players' Age <a class=\"anchor\" id=\"2.3\"></a>\n",
    "Goalkeepers and defender are relatively older than thier mid-field and attacking colleagues. The defence line (including goalkeepers) is widely regarded as the area where more of a wise-head/cool-headed than a lightning fast leg is need. No harm if a defender is fast, there are many of them. But most defenders mature with age. Being an older defender is not a bad thing.\n",
    "\n",
    "**Summary:**\n",
    "* The yougest squad is Leeds-United\n",
    "* Liverpool are the oldest group of players\n",
    "* The min, median and max ages are 17, 25.8 and 38 years\n",
    "\n",
    "**Extra info:**\n",
    "\n",
    "The youngest ever EPL player: Harvey Elliott – 16 years and 30 days (Liverpool, made debut on May 2019)\n",
    "\n",
    "The olderst ever EPL player: John Burridge – 43 years and 163 days (Aston Villa, played last 1995)\n",
    "\n",
    "<a href=\"#top\">Back to top</a>  "
   ]
  },
  {
   "cell_type": "code",
   "execution_count": 8,
   "metadata": {
    "_kg_hide-input": true,
    "execution": {
     "iopub.execute_input": "2025-07-11T12:40:27.320162Z",
     "iopub.status.busy": "2025-07-11T12:40:27.319496Z",
     "iopub.status.idle": "2025-07-11T12:40:27.470092Z",
     "shell.execute_reply": "2025-07-11T12:40:27.469490Z",
     "shell.execute_reply.started": "2025-07-11T12:38:02.084116Z"
    },
    "papermill": {
     "duration": 0.180411,
     "end_time": "2025-07-11T12:40:27.470235",
     "exception": false,
     "start_time": "2025-07-11T12:40:27.289824",
     "status": "completed"
    },
    "tags": []
   },
   "outputs": [
    {
     "data": {
      "text/html": [
       "<iframe\n",
       "    scrolling=\"no\"\n",
       "    width=\"620px\"\n",
       "    height=\"420\"\n",
       "    src=\"iframe_figures/figure_8.html\"\n",
       "    frameborder=\"0\"\n",
       "    allowfullscreen\n",
       "></iframe>\n"
      ]
     },
     "metadata": {},
     "output_type": "display_data"
    }
   ],
   "source": [
    "df = data\n",
    "\n",
    "age_avg=df['Age'].mean()\n",
    "\n",
    "fig1 = px.violin(df, y=\"Age\", x=\"Position\", box=True,\n",
    "                title='<b> Players Age distribution by position (avg. age dotted line)<b>',\n",
    "                width=600,height=400,template='simple_white')\n",
    "fig1.add_shape( \n",
    "    type=\"line\", line_color=\"blue\", line_width=3, opacity=1, line_dash=\"dot\",\n",
    "    x0=0, x1=1, xref=\"paper\", y0=age_avg, y1=age_avg, yref=\"y\"\n",
    ")\n",
    "\n",
    "fig1.show(renderer=\"iframe\")\n"
   ]
  },
  {
   "cell_type": "code",
   "execution_count": 9,
   "metadata": {
    "_kg_hide-input": true,
    "execution": {
     "iopub.execute_input": "2025-07-11T12:40:27.532063Z",
     "iopub.status.busy": "2025-07-11T12:40:27.531144Z",
     "iopub.status.idle": "2025-07-11T12:40:27.725432Z",
     "shell.execute_reply": "2025-07-11T12:40:27.724699Z",
     "shell.execute_reply.started": "2025-07-11T12:38:54.419195Z"
    },
    "jupyter": {
     "source_hidden": true
    },
    "papermill": {
     "duration": 0.23145,
     "end_time": "2025-07-11T12:40:27.725559",
     "exception": false,
     "start_time": "2025-07-11T12:40:27.494109",
     "status": "completed"
    },
    "tags": []
   },
   "outputs": [
    {
     "data": {
      "text/html": [
       "<iframe\n",
       "    scrolling=\"no\"\n",
       "    width=\"770px\"\n",
       "    height=\"770\"\n",
       "    src=\"iframe_figures/figure_9.html\"\n",
       "    frameborder=\"0\"\n",
       "    allowfullscreen\n",
       "></iframe>\n"
      ]
     },
     "metadata": {},
     "output_type": "display_data"
    }
   ],
   "source": [
    "fig2 = px.box(df, y=\"Club\", x=\"Age\",\n",
    "            title='<b>Players Age distribution by club (avg. age dotted line)<b>',\n",
    "            width=750,height=750,template='ggplot2')\n",
    "fig2.add_shape( \n",
    "    type=\"line\", line_color=\"black\", line_width=3, opacity=1, line_dash=\"dot\",\n",
    "    y0=0, y1=1, yref=\"paper\", x0=age_avg, x1=age_avg, xref=\"x\"\n",
    ")\n",
    "# fig.update_layout( yaxis={'categoryorder':'total descending'})\n",
    "\n",
    "fig2.show(renderer=\"iframe\")"
   ]
  },
  {
   "cell_type": "markdown",
   "metadata": {
    "papermill": {
     "duration": 0.023021,
     "end_time": "2025-07-11T12:40:27.772114",
     "exception": false,
     "start_time": "2025-07-11T12:40:27.749093",
     "status": "completed"
    },
    "tags": []
   },
   "source": [
    "<div>    \n",
    "<img src=\"https://cdn.standardmedia.co.ke/images/thursday/spwhmm6qtavglc4atib5ed0054dcc631.jpg\" width=\"500\"/>    \n",
    "</div>\n",
    "\n",
    "## 3. Players Stats By Playing Position <a class=\"anchor\" id=\"3\"></a>\n",
    "### 3.1 Goalkeepers  <a class=\"anchor\" id=\"3.1\"></a>\n",
    "\n",
    "One of the key stats for goalkeepers is the much coveted `clean sheet` (conceeding zero goals in a game). Although this stat is not entierly dependent on the performance/ability of the goalkeeper only (a solid defence-line infront of a goalkeeper always helps), this metric shows how good a goal keeper is. The goalkeeper who kept the most clean sheets is awarded a golden-glove for thier effort at the end of a season. Other important qualities of a goalkeeper are:\n",
    "\n",
    "*  Clean sheets\n",
    "*  Saves\n",
    "*  Penalties saved \n",
    "*  Punches \n",
    "*  High Claims \n",
    "*  Catches\n",
    "\n",
    "**Extra info**: \n",
    "Most Expensive goal keepers in the EPL are:\n",
    "1. Kepa Arrizabalaga (SPN), Athletic Bilbao to Chelsea in 2018, £71m\n",
    "2. Alisson Becker (BRA), AS Roma to Liverpool in 2018, £65m\n",
    "3. Ederson Moraes (BRA), Benfica to Manchester City in 2017, £34.7m\n",
    "\n",
    "[Here is the reference. ](https://www.espn.com/soccer/soccer-transfers/story/3135816/the-10-most-expensive-goalkeepers-kepa-alisson-becker-courtois-ederson)\n"
   ]
  },
  {
   "cell_type": "code",
   "execution_count": 10,
   "metadata": {
    "_kg_hide-input": true,
    "execution": {
     "iopub.execute_input": "2025-07-11T12:40:27.829633Z",
     "iopub.status.busy": "2025-07-11T12:40:27.828333Z",
     "iopub.status.idle": "2025-07-11T12:40:28.029764Z",
     "shell.execute_reply": "2025-07-11T12:40:28.030254Z",
     "shell.execute_reply.started": "2025-07-11T12:32:37.314102Z"
    },
    "papermill": {
     "duration": 0.234961,
     "end_time": "2025-07-11T12:40:28.030421",
     "exception": false,
     "start_time": "2025-07-11T12:40:27.795460",
     "status": "completed"
    },
    "tags": []
   },
   "outputs": [
    {
     "data": {
      "text/html": [
       "<iframe\n",
       "    scrolling=\"no\"\n",
       "    width=\"1320px\"\n",
       "    height=\"1220\"\n",
       "    src=\"iframe_figures/figure_10.html\"\n",
       "    frameborder=\"0\"\n",
       "    allowfullscreen\n",
       "></iframe>\n"
      ]
     },
     "metadata": {},
     "output_type": "display_data"
    }
   ],
   "source": [
    "from plotly.subplots import make_subplots\n",
    "\n",
    "head = 5\n",
    "df1=goalies_38app.sort_values(by='Clean sheets', ascending=False).head(head)\n",
    "df2=goalies_38app.sort_values(by='Saves', ascending=False).head(head)\n",
    "df3=goalies_38app.sort_values(by='High Claims', ascending=False).head(head)\n",
    "df4=goalies_38app.sort_values(by='Catches', ascending=False).head(head)\n",
    "\n",
    "df11=goalies_.sort_values(by='Clean sheets', ascending=False).head(head)\n",
    "df12=goalies_.sort_values(by='Saves', ascending=False).head(head)\n",
    "df13=goalies_.sort_values(by='High Claims', ascending=False).head(head)\n",
    "df14=goalies_.sort_values(by='Catches', ascending=False).head(head)\n",
    "\n",
    "fig = make_subplots(\n",
    "    rows=4, cols=2,\n",
    "    subplot_titles=('Clean sheets (overall)', 'Clean sheets (per-game)','Saves (overall)','Saves (per-game)',\n",
    "                    'High Claims (overall)', 'High Claims (per-game)','Catches (overall)', 'Catches (per-game)'),\n",
    "    horizontal_spacing = 0.12,\n",
    "    vertical_spacing = 0.075)\n",
    "\n",
    "fig.add_trace(go.Bar(\n",
    "                y=df1[\"Name\"], \n",
    "                x=df1['Clean sheets'],\n",
    "                hovertext=df1['Club'],\n",
    "                orientation='h'),\n",
    "                row=1, col=1)\n",
    "\n",
    "fig.add_trace(go.Bar(\n",
    "                y=df2[\"Name\"], \n",
    "                x=df2['Saves'],\n",
    "                hovertext=df2['Club'],\n",
    "                orientation='h'),\n",
    "                row=2, col=1)\n",
    "\n",
    "fig.add_trace(go.Bar(\n",
    "                y=df3[\"Name\"], \n",
    "                x=df3['High Claims'],\n",
    "                hovertext=df3['Club'],\n",
    "                orientation='h'),\n",
    "                row=3, col=1)\n",
    "\n",
    "fig.add_trace(go.Bar(\n",
    "                y=df4[\"Name\"], \n",
    "                x=df4['Catches'],\n",
    "                hovertext=df4['Club'],\n",
    "                orientation='h'),\n",
    "                row=4, col=1)\n",
    "\n",
    "\n",
    "fig.add_trace(go.Bar(\n",
    "                y=df11[\"Name\"], \n",
    "                x=df11['Clean sheets'],\n",
    "                hovertext=df11['Club'],\n",
    "                orientation='h'),\n",
    "                row=1, col=2)\n",
    "\n",
    "fig.add_trace(go.Bar(\n",
    "                y=df12[\"Name\"], \n",
    "                x=df12['Saves'],\n",
    "                hovertext=df12['Club'],\n",
    "                orientation='h'),\n",
    "                row=2, col=2)\n",
    "\n",
    "fig.add_trace(go.Bar(\n",
    "                y=df13[\"Name\"], \n",
    "                x=df13['High Claims'],\n",
    "                hovertext=df13['Club'],\n",
    "                orientation='h'),\n",
    "                row=3, col=2)\n",
    "\n",
    "fig.add_trace(go.Bar(\n",
    "                y=df14[\"Name\"], \n",
    "                x=df14['Catches'],\n",
    "                hovertext=df14['Club'],\n",
    "                orientation='h'),\n",
    "                row=4, col=2)\n",
    "\n",
    "fig.update_traces(marker_color= ['rgb(110,102,250)','rgb(210,202,82)','rgb(210,202,82)','rgb(210,202,82)',\n",
    "                                 'rgb(210,202,82)',], marker_line_color='rgb(8,48,107)',\n",
    "                  marker_line_width=2.5, opacity=0.6)\n",
    "fig.update_layout(title_text='<b> Top goalkeepers stat<b>', \n",
    "                  titlefont={'size':28},\n",
    "                  title_x=0.5,\n",
    "                  showlegend=False,\n",
    "                  autosize=False, \n",
    "                  width=1300, \n",
    "                  height=1200,\n",
    "                  template='ggplot2',\n",
    "                  paper_bgcolor='lightgray',\n",
    "                  #plot_bgcolor='lightgray',\n",
    "                 )\n",
    "fig.show(renderer=\"iframe\")"
   ]
  },
  {
   "cell_type": "markdown",
   "metadata": {
    "papermill": {
     "duration": 0.023626,
     "end_time": "2025-07-11T12:40:28.078021",
     "exception": false,
     "start_time": "2025-07-11T12:40:28.054395",
     "status": "completed"
    },
    "tags": []
   },
   "source": [
    "<a href=\"#top\">Back to top</a>  \n",
    "<div>    \n",
    "<img src=\"https://staticg.sportskeeda.com/editor/2020/01/ed476-15783945689891-800.jpg\" width=\"500\"/>    \n",
    "</div>\n",
    "\n",
    "### 3.2 Defenders <a class=\"anchor\" id=\"3.2\"></a>\n",
    "\n",
    "In a game of footall (in fact in any game where a draw is possible) if you can not win the game then do not lose it. That means defend well and do not concede a goal. For that to happen derenders play a huge part. Good defenders are able to read the game very well and sense where the danger is in time. They know when to join the party (attacking) or sit back and defend. Although they are rare to find, there are defenders who can do more than their own job by assisting goals and scoring themselves as well. Let's see who are the best defenders at doing their job and who are contributing more than they are needed to.\n",
    "\n",
    "**Extra info**:\n",
    "Most expensive defender in the EPL:\n",
    "1. Harry Maguire (Leicester City to Manchester United) - €87million\n",
    "2. Virgil van Dijk (Southampton to Liverpool) - €84.65 million\n",
    "3. Joao Cancelo (Juventus to Manchester City) - €65 million\n",
    "\n",
    "Contrary to the transfer fees, big Virgil is the best defender in the list, if not in the world (of course my opinion) \n",
    "\n",
    "[Here is the reference.](https://www.kickoff.com/news/articles/world-news/categories/news/english-premier-league/the-10-most-expensive-defenders-of-all-time/681803?gallery=681803&gallery-page=11#ig)"
   ]
  },
  {
   "cell_type": "code",
   "execution_count": 11,
   "metadata": {
    "_kg_hide-input": true,
    "execution": {
     "iopub.execute_input": "2025-07-11T12:40:28.139986Z",
     "iopub.status.busy": "2025-07-11T12:40:28.134723Z",
     "iopub.status.idle": "2025-07-11T12:40:28.343439Z",
     "shell.execute_reply": "2025-07-11T12:40:28.343890Z",
     "shell.execute_reply.started": "2025-07-11T12:32:37.513608Z"
    },
    "papermill": {
     "duration": 0.242204,
     "end_time": "2025-07-11T12:40:28.344050",
     "exception": false,
     "start_time": "2025-07-11T12:40:28.101846",
     "status": "completed"
    },
    "tags": []
   },
   "outputs": [
    {
     "data": {
      "text/html": [
       "<iframe\n",
       "    scrolling=\"no\"\n",
       "    width=\"1320px\"\n",
       "    height=\"1320\"\n",
       "    src=\"iframe_figures/figure_11.html\"\n",
       "    frameborder=\"0\"\n",
       "    allowfullscreen\n",
       "></iframe>\n"
      ]
     },
     "metadata": {},
     "output_type": "display_data"
    }
   ],
   "source": [
    "defenders_attr =['Blocked shots', 'Interceptions', 'Clearances','Headed Clearance', 'Clearances off line',\n",
    "                 'Duels won','Successful 50/50s', 'Aerial battles won']\n",
    "# top=5\n",
    "# defenders_attr =['Tackles', 'Tackle success'Interceptions' %', 'Last man tackles', 'Blocked shots', 'Interceptions', 'Clearances',\n",
    "#                  'Headed Clearance', 'Clearances off line', 'Recoveries', 'Duels won','Successful 50/50s', 'Aerial battles won'] \n",
    "# for atr in defenders_attr:\n",
    "#     text = 5\n",
    "#     df = data_38app[data_38app[\"Position\"] == 'Defender'].sort_values(by=atr, ascending=False).head(top)\n",
    "#     fig = px.bar(df, x=\"Name\", \n",
    "#                  y=atr,\n",
    "#                  color='Club',\n",
    "#                  hover_name=None,\n",
    "#                  title=\"Defender defensive ability: Top {} {} \".format(text, atr.lower()))\n",
    "#     fig.update_layout(autosize=False, width=1000, height=500)\n",
    "#     iplot(fig)\n",
    "\n",
    "\n",
    "top = 5\n",
    "fig = make_subplots(\n",
    "    rows=5, cols=2,\n",
    "    horizontal_spacing = 0.05, \n",
    "    vertical_spacing = 0.075, \n",
    "    subplot_titles=('Blocked shots (overall)', 'Blocked shots (per-game)','Interceptions (overall)', 'Interceptions (per-game)','Clearances (overall)',\n",
    "                    'Clearances (per-game)','Headed Clearance (overall)', 'Headed Clearance (per-game)','Clearances off line (overall)', 'Clearances off line (per-game)'),\n",
    "    )\n",
    "\n",
    "\n",
    "df = defenders_38app.sort_values(by='Blocked shots', ascending=False).head(top)\n",
    "fig.add_trace(go.Bar(x=df[\"Name\"], \n",
    "             y=df['Blocked shots'],\n",
    "             #color='Club',\n",
    "             #hover_name=None,\n",
    "             orientation='v'),\n",
    "             row=1, col=1)\n",
    "              \n",
    "df = defenders_38app.sort_values(by='Interceptions', ascending=False).head(top)\n",
    "fig.add_trace(go.Bar(x=df[\"Name\"], \n",
    "             y=df['Interceptions'],\n",
    "             #color='Club',\n",
    "             #hover_name=None,\n",
    "             orientation='v'),\n",
    "             row=2, col=1)  \n",
    "\n",
    "df = defenders_38app.sort_values(by='Clearances', ascending=False).head(top)\n",
    "fig.add_trace(go.Bar(x=df[\"Name\"], \n",
    "             y=df['Clearances'],\n",
    "             #color='Club',\n",
    "            #hover_name=None,\n",
    "             orientation='v'),\n",
    "             row=3, col=1)\n",
    "\n",
    "\n",
    "df = defenders_38app.sort_values(by='Headed Clearance', ascending=False).head(top)\n",
    "fig.add_trace(go.Bar(x=df[\"Name\"], \n",
    "             y=df['Headed Clearance'],\n",
    "             #color='Club',\n",
    "             #hover_name=None,\n",
    "             orientation='v'),\n",
    "             row=4,col=1)\n",
    "\n",
    "df = defenders_38app.sort_values(by='Clearances off line', ascending=False).head(top)\n",
    "fig.add_trace(go.Bar( x=df[\"Name\"], \n",
    "             y=df['Clearances off line'],\n",
    "             #color='Club',\n",
    "             #hover_name=None,\n",
    "             orientation='v'),\n",
    "             row=5, col=1)\n",
    "\n",
    "\n",
    "df = defenders_.sort_values(by='Blocked shots', ascending=False).head(top)\n",
    "fig.add_trace(go.Bar( x=df[\"Name\"], \n",
    "             y=df['Blocked shots'],\n",
    "             #color='Club',\n",
    "             #hover_name=None,\n",
    "             orientation='v'),\n",
    "             row=1, col=2)\n",
    "\n",
    "df = defenders_.sort_values(by='Interceptions', ascending=False).head(top)\n",
    "fig.add_trace(go.Bar( x=df[\"Name\"], \n",
    "             y=df['Interceptions'],\n",
    "             #color='Club',\n",
    "             #hover_name=None,\n",
    "             orientation='v'),\n",
    "             row=2, col=2)\n",
    "  \n",
    "\n",
    "df = defenders_.sort_values(by='Clearances', ascending=False).head(top)\n",
    "fig.add_trace(go.Bar(x=df[\"Name\"], \n",
    "             y=df['Clearances'],\n",
    "             #color='Club',\n",
    "             #hover_name=None,\n",
    "             orientation='v'),\n",
    "             row=3, col=2)\n",
    "\n",
    "\n",
    "df = defenders_.sort_values(by='Headed Clearance', ascending=False).head(top)\n",
    "fig.add_trace(go.Bar( x=df[\"Name\"], \n",
    "             y=df['Headed Clearance'],\n",
    "             #color='Club',\n",
    "             #hover_name=None,\n",
    "             orientation='v'),\n",
    "             row=4,col=2)\n",
    "\n",
    "df = defenders_.sort_values(by='Clearances off line', ascending=False).head(top)\n",
    "fig.add_trace(go.Bar( x=df[\"Name\"], \n",
    "             y=df['Clearances off line'],\n",
    "             #color='Club',\n",
    "             #hover_name=None,\n",
    "             orientation='v'),\n",
    "             row=5, col=2)\n",
    "\n",
    "#fig.update_layout(title_text='Top Defender Qualities', title_x=0.5)\n",
    "fig.update_traces(marker_color= ['rgb(96, 96, 96)','rgb(210,202,82)','rgb(210,202,82)','rgb(210,202,82)',\n",
    "                                 'rgb(210,202,82)', 'rgb(210,202,82)'], marker_line_color='rgb(8,48,107)',\n",
    "                  marker_line_width=2.5, opacity=0.6)\n",
    "\n",
    "fig.update_layout(title_text='<b>Top Defender Qualities<b>', \n",
    "                  titlefont={'size':28},\n",
    "                  title_x=0.5,\n",
    "                  showlegend=False,\n",
    "                  autosize=False, \n",
    "                  width=1300, \n",
    "                  height=1300,\n",
    "                  template='ggplot2',\n",
    "                  paper_bgcolor='lightgray')\n",
    "fig.show(renderer=\"iframe\")\n"
   ]
  },
  {
   "cell_type": "markdown",
   "metadata": {
    "papermill": {
     "duration": 0.02402,
     "end_time": "2025-07-11T12:40:28.392475",
     "exception": false,
     "start_time": "2025-07-11T12:40:28.368455",
     "status": "completed"
    },
    "tags": []
   },
   "source": [
    "<div>    \n",
    "<img src=\"https://assets-cms.thescore.com/uploads/image/file/215195/w1280xh966_EPL.jpg?ts=1479567580\" width=\"500\"/>    \n",
    "</div>\n",
    "\n",
    "### 3.3 Midfielders <a class=\"anchor\" id=\"3.3\"></a>\n",
    "\n",
    "As it's often called mid-field is the engine-room of a football team. Mid-fielders dictate the tempo of the game, they help their attacking or defending team mates depending on the situation of their team is in. Their ability to thread in an incisive pass or their awarness to sense danger before their defending colleagues are in trouble are crucial qualities of a good mid-fielder. All great teams past and present had/have a couple world-class mid-fielders in them. Below some of these attributes are summerized.\n",
    "\n"
   ]
  },
  {
   "cell_type": "code",
   "execution_count": 12,
   "metadata": {
    "_kg_hide-input": true,
    "execution": {
     "iopub.execute_input": "2025-07-11T12:40:28.489271Z",
     "iopub.status.busy": "2025-07-11T12:40:28.484038Z",
     "iopub.status.idle": "2025-07-11T12:40:28.663744Z",
     "shell.execute_reply": "2025-07-11T12:40:28.664191Z",
     "shell.execute_reply.started": "2025-07-11T12:32:37.727242Z"
    },
    "papermill": {
     "duration": 0.247165,
     "end_time": "2025-07-11T12:40:28.664371",
     "exception": false,
     "start_time": "2025-07-11T12:40:28.417206",
     "status": "completed"
    },
    "tags": []
   },
   "outputs": [
    {
     "data": {
      "text/html": [
       "<iframe\n",
       "    scrolling=\"no\"\n",
       "    width=\"1220px\"\n",
       "    height=\"1220\"\n",
       "    src=\"iframe_figures/figure_12.html\"\n",
       "    frameborder=\"0\"\n",
       "    allowfullscreen\n",
       "></iframe>\n"
      ]
     },
     "metadata": {},
     "output_type": "display_data"
    }
   ],
   "source": [
    "mid_field_attr_D =['Recoveries','Duels won','Successful 50/50s','Aerial battles won'] \n",
    "\n",
    "col=2\n",
    "row=4\n",
    "\n",
    "top = 5\n",
    "fig = make_subplots(\n",
    "    rows=4, cols=2,\n",
    "    subplot_titles=('Recoveries (overall)','Recoveries (per-game)','Duels won (overall)','Duels won (per-game)','Successful 50/50s (overall)',\n",
    "                    'Successful 50/50s (per-game)','Aerial battles won (overall)', 'Aerial battles won (per-game)'))\n",
    "\n",
    "for i, atr in enumerate(mid_field_attr_D):\n",
    "    df = data_38app[data_38app[\"Position\"] == 'Midfielder'].sort_values(by=atr, ascending=False).head(top)\n",
    "    fig.add_trace(go.Bar(x=df['Name'], \n",
    "         y=df[atr],\n",
    "         orientation='v'),\n",
    "         row=i+1, col=1)\n",
    "\n",
    "for j, atr in enumerate(mid_field_attr_D):    \n",
    "    df = midfielders_.sort_values(by=atr, ascending=False).head(top)\n",
    "    fig.add_trace(go.Bar(x=df['Name'], \n",
    "         y=df[atr],\n",
    "         orientation='v'),\n",
    "         row=j+1, col=2)\n",
    "       \n",
    "    fig.update_traces(marker_color= ['rgb(96, 96, 96)','rgb(110,202,82)','rgb(110,202,82)','rgb(110,202,82)',\n",
    "                                    'rgb(110,202,82)', 'rgb(110,202,82)'], marker_line_color='rgb(8,48,107)',\n",
    "                  marker_line_width=2.5, opacity=0.6)\n",
    "\n",
    "fig.update_layout(title_text='<b>Top Midfield Qualities: Defense Ability<b>',\n",
    "                  titlefont={'size': 28, 'family':'Courier'},\n",
    "                  title_x=0.5,\n",
    "                  showlegend=False,\n",
    "                  autosize=False, \n",
    "                  width=1200, \n",
    "                  height=1200, \n",
    "                  template='ggplot2', \n",
    "                  paper_bgcolor='lightgray')\n",
    "fig.show(renderer=\"iframe\")"
   ]
  },
  {
   "cell_type": "code",
   "execution_count": 13,
   "metadata": {
    "_kg_hide-input": true,
    "execution": {
     "iopub.execute_input": "2025-07-11T12:40:28.752192Z",
     "iopub.status.busy": "2025-07-11T12:40:28.746978Z",
     "iopub.status.idle": "2025-07-11T12:40:28.939070Z",
     "shell.execute_reply": "2025-07-11T12:40:28.938393Z",
     "shell.execute_reply.started": "2025-07-11T12:32:37.949015Z"
    },
    "papermill": {
     "duration": 0.249676,
     "end_time": "2025-07-11T12:40:28.939214",
     "exception": false,
     "start_time": "2025-07-11T12:40:28.689538",
     "status": "completed"
    },
    "tags": []
   },
   "outputs": [
    {
     "data": {
      "text/html": [
       "<iframe\n",
       "    scrolling=\"no\"\n",
       "    width=\"1220px\"\n",
       "    height=\"1220\"\n",
       "    src=\"iframe_figures/figure_13.html\"\n",
       "    frameborder=\"0\"\n",
       "    allowfullscreen\n",
       "></iframe>\n"
      ]
     },
     "metadata": {},
     "output_type": "display_data"
    }
   ],
   "source": [
    "mid_field_attr_A =['Assists','Big chances created','Cross accuracy %','Through balls']\n",
    "col=2\n",
    "row=4\n",
    "\n",
    "top = 5\n",
    "fig = make_subplots(\n",
    "    rows=4, cols=2,\n",
    "    subplot_titles=('Assists (overall)','Assists (per-game)','Big chances created (overall)','Big chances created (per-game)','Cross accuracy % (overall)',\n",
    "                    'Cross accuracy % (per-game)','Through balls (overall)', 'Through balls (per-game)'))\n",
    "\n",
    "for i, atr in enumerate(mid_field_attr_A):\n",
    "    df = data_38app[data_38app[\"Position\"] == 'Midfielder'].sort_values(by=atr, ascending=False).head(top)\n",
    "    fig.add_trace(go.Bar(x=df['Name'], \n",
    "         y=df[atr],\n",
    "         orientation='v'),\n",
    "         row=i+1, col=1)\n",
    "\n",
    "for j, atr in enumerate(mid_field_attr_A):    \n",
    "    df = midfielders_.sort_values(by=atr, ascending=False).head(top)\n",
    "    fig.add_trace(go.Bar(x=df['Name'], \n",
    "         y=df[atr],\n",
    "         orientation='v'),\n",
    "         row=j+1, col=2)\n",
    "       \n",
    "    fig.update_traces(marker_color= ['rgb(255, 208, 288)','rgb(100,100,100)','rgb(100,100,100)','rgb(100,100,100)',\n",
    "                                    'rgb(100,100,100)', 'rgb(100,100,100)'], marker_line_color='rgb(8,48,107)',\n",
    "                  marker_line_width=2.5, opacity=0.6)\n",
    "\n",
    "fig.update_layout(title_text='<b>Top Midfield Qualities: Creative Ability<b>', \n",
    "                  titlefont={'size': 28, 'family':'Courier'},\n",
    "                  title_x=0.5,\n",
    "                  showlegend=False,\n",
    "                  autosize=False, \n",
    "                  width=1200, \n",
    "                  height=1200, \n",
    "                  template='ggplot2', \n",
    "                  paper_bgcolor='lightgray')\n",
    "fig.show(renderer=\"iframe\")"
   ]
  },
  {
   "cell_type": "markdown",
   "metadata": {
    "papermill": {
     "duration": 0.025329,
     "end_time": "2025-07-11T12:40:28.990427",
     "exception": false,
     "start_time": "2025-07-11T12:40:28.965098",
     "status": "completed"
    },
    "tags": []
   },
   "source": [
    "<a href=\"#top\">Back to top</a>  \n",
    "<div>    \n",
    "<img src=\"https://dailypost.ng/wp-content/uploads/2019/04/epl-top-scorers-1.jpg\" width=\"500\"/>    \n",
    "</div>\n",
    "\n",
    "### 3.4 Forwards <a class=\"anchor\" id=\"3.4\"></a>\n",
    "\n",
    "#### Goals, goals and goals:\n",
    "\n",
    "Winning a game is the ultimate goal of the beautiful game. Scoring more goals that your opponent will do just that. We all watch football and enjoy when the team we support or our favorite team scores gaol/s. And enjoy the moment. Some would argue that goals just for the sake of goals are meaningless without attractive, entertaining attacking football. But goals goals are that wins you games. Below are the goals machines in the EPL.\n",
    "\n",
    "1. Most goals: Sergio Aguero, Harry Kane, Jamie Vardy\n",
    "2. Most right foot goals: Sergio Aguero, Harry Kane, Jamie Vardy\n",
    "3. Most left foot goals: Mohammed Salah, Oliver Giroud, Ryhad Mahrez\n",
    "4. Most headed goals: Oliver Giroud, Christian Benket, Andy Carrol\n",
    "5. Most goal scoring nations: England, France, Brazil Argentina"
   ]
  },
  {
   "cell_type": "code",
   "execution_count": 14,
   "metadata": {
    "_kg_hide-input": true,
    "execution": {
     "iopub.execute_input": "2025-07-11T12:40:29.055730Z",
     "iopub.status.busy": "2025-07-11T12:40:29.055000Z",
     "iopub.status.idle": "2025-07-11T12:40:29.160125Z",
     "shell.execute_reply": "2025-07-11T12:40:29.160681Z",
     "shell.execute_reply.started": "2025-07-11T12:32:38.171091Z"
    },
    "papermill": {
     "duration": 0.145052,
     "end_time": "2025-07-11T12:40:29.160857",
     "exception": false,
     "start_time": "2025-07-11T12:40:29.015805",
     "status": "completed"
    },
    "tags": []
   },
   "outputs": [
    {
     "data": {
      "text/html": [
       "<iframe\n",
       "    scrolling=\"no\"\n",
       "    width=\"1220px\"\n",
       "    height=\"570\"\n",
       "    src=\"iframe_figures/figure_14.html\"\n",
       "    frameborder=\"0\"\n",
       "    allowfullscreen\n",
       "></iframe>\n"
      ]
     },
     "metadata": {},
     "output_type": "display_data"
    }
   ],
   "source": [
    "headerColor = 'grey'\n",
    "rowEvenColor = 'lightgrey'\n",
    "rowOddColor = 'white'\n",
    "\n",
    "\n",
    "head = 10\n",
    "table_header = ['Rank', 'Total goals','Goals with right foot','Goals with left foot','Headed goals']\n",
    "df = data_38app\n",
    "\n",
    "fig = go.Figure(data=[go.Table(\n",
    "    \n",
    "    header=dict(values=list(table_header),\n",
    "                    line_color='darkslategray',\n",
    "                    fill_color=headerColor,\n",
    "                    align=['left'],\n",
    "                    font=dict(color='white', size=20),\n",
    "                    height=30\n",
    "                               ),\n",
    "    \n",
    "    cells=dict(values=[list(np.arange(1, head+1)),\n",
    "        data_38app.sort_values(by='Goals', ascending=False)['Name'].head(head),\n",
    "                       \n",
    "        data_38app.sort_values(by='Goals with right foot', ascending=False)['Name'].head(head),\n",
    "        data_38app.sort_values(by='Goals with left foot', ascending=False)['Name'].head(head),\n",
    "        data_38app.sort_values(by='Headed goals', ascending=False)['Name'].head(head)],\n",
    "\n",
    "       fill_color=[[rowOddColor,rowEvenColor]*5],\n",
    "       font=dict(color='black', size=16, family=\"Courier New, monospace\",), \n",
    "       align='left', height=25,)\n",
    "        )\n",
    "])\n",
    "fig.update_layout(title_text='TOP {} GOAL SCORERS'.format(head), title_x=0.5, font=dict(color='white', size=20, family=\"Courier New, monospace\",))\n",
    "fig.update_layout(width=1200, height=550, template='plotly_dark')\n",
    "fig.show(renderer=\"iframe\")"
   ]
  },
  {
   "cell_type": "code",
   "execution_count": 15,
   "metadata": {
    "_kg_hide-input": true,
    "execution": {
     "iopub.execute_input": "2025-07-11T12:40:29.262076Z",
     "iopub.status.busy": "2025-07-11T12:40:29.259027Z",
     "iopub.status.idle": "2025-07-11T12:40:29.287554Z",
     "shell.execute_reply": "2025-07-11T12:40:29.288087Z",
     "shell.execute_reply.started": "2025-07-11T12:32:38.286701Z"
    },
    "papermill": {
     "duration": 0.101324,
     "end_time": "2025-07-11T12:40:29.288274",
     "exception": false,
     "start_time": "2025-07-11T12:40:29.186950",
     "status": "completed"
    },
    "tags": []
   },
   "outputs": [
    {
     "data": {
      "text/html": [
       "<iframe\n",
       "    scrolling=\"no\"\n",
       "    width=\"570px\"\n",
       "    height=\"570\"\n",
       "    src=\"iframe_figures/figure_15.html\"\n",
       "    frameborder=\"0\"\n",
       "    allowfullscreen\n",
       "></iframe>\n"
      ]
     },
     "metadata": {},
     "output_type": "display_data"
    }
   ],
   "source": [
    "#data = data_38app.head(10)\n",
    "fig = px.pie(data,\n",
    "             values='Goals',\n",
    "             names='Nationality',\n",
    "             title='<b>Player of which country score the most goals? <b>',\n",
    "             width=550, height=550,\n",
    "             )\n",
    "fig.update_traces(textposition='inside',\n",
    "                  textinfo='percent+label',\n",
    "                  showlegend= False,\n",
    "                 )\n",
    "fig.show(renderer=\"iframe\")"
   ]
  },
  {
   "cell_type": "code",
   "execution_count": 16,
   "metadata": {
    "_kg_hide-input": true,
    "execution": {
     "iopub.execute_input": "2025-07-11T12:40:29.358426Z",
     "iopub.status.busy": "2025-07-11T12:40:29.349163Z",
     "iopub.status.idle": "2025-07-11T12:40:29.365779Z",
     "shell.execute_reply": "2025-07-11T12:40:29.366269Z",
     "shell.execute_reply.started": "2025-07-11T12:32:38.366092Z"
    },
    "jupyter": {
     "source_hidden": true
    },
    "papermill": {
     "duration": 0.052109,
     "end_time": "2025-07-11T12:40:29.366435",
     "exception": false,
     "start_time": "2025-07-11T12:40:29.314326",
     "status": "completed"
    },
    "tags": []
   },
   "outputs": [],
   "source": [
    "#Headed goals\n",
    "hg_f =data[data['Position'] == 'Forward']['Headed goals'].sum()\n",
    "hg_m =data[data['Position'] == 'Midfielder']['Headed goals'].sum()\n",
    "hg_d =data[data['Position'] == 'Defender']['Headed goals'].sum()\n",
    "hg_kg =data[data['Position'] == 'Goalkeeper']['Headed goals'].sum()\n",
    "#Goals with right foot\n",
    "rfg_f =data[data['Position'] == 'Forward']['Goals with right foot'].sum()\n",
    "rfg_m =data[data['Position'] == 'Midfielder']['Goals with right foot'].sum()\n",
    "rfg_d =data[data['Position'] == 'Defender']['Goals with right foot'].sum()\n",
    "rfg_kg =data[data['Position'] == 'Goalkeeper']['Goals with right foot'].sum()\n",
    "#Goals with left foot\n",
    "lfg_f =data[data['Position'] == 'Forward']['Goals with left foot'].sum()\n",
    "lfg_m =data[data['Position'] == 'Midfielder']['Goals with left foot'].sum()\n",
    "lfg_d =data[data['Position'] == 'Defender']['Goals with left foot'].sum()\n",
    "lfg_kg =data[data['Position'] == 'Goalkeeper']['Goals with left foot'].sum()\n"
   ]
  },
  {
   "cell_type": "markdown",
   "metadata": {
    "papermill": {
     "duration": 0.025819,
     "end_time": "2025-07-11T12:40:29.418006",
     "exception": false,
     "start_time": "2025-07-11T12:40:29.392187",
     "status": "completed"
    },
    "tags": []
   },
   "source": [
    "## 4. Other Statistics <a class=\"anchor\" id=\"4\"></a>\n",
    "### 4.1 Goal distribution <a class=\"anchor\" id=\"4.1\"></a>\n",
    "Summary:\n",
    "\n",
    "* Forwards score more goals (obvious)\n",
    "* Right-footed goals are dominant\n",
    "* Defenders love to head\n",
    "* The big hitters are Machester City, Liverpool and Tottenham\n",
    "* The new boys (Leeds United have the fewest goals scored)\n",
    "* **Crystal Palace defenders** have the best goal-scoring defenders\n",
    " "
   ]
  },
  {
   "cell_type": "code",
   "execution_count": 17,
   "metadata": {
    "_kg_hide-input": true,
    "execution": {
     "iopub.execute_input": "2025-07-11T12:40:29.504447Z",
     "iopub.status.busy": "2025-07-11T12:40:29.499165Z",
     "iopub.status.idle": "2025-07-11T12:40:29.542284Z",
     "shell.execute_reply": "2025-07-11T12:40:29.541592Z",
     "shell.execute_reply.started": "2025-07-11T12:32:38.388941Z"
    },
    "papermill": {
     "duration": 0.098379,
     "end_time": "2025-07-11T12:40:29.542417",
     "exception": false,
     "start_time": "2025-07-11T12:40:29.444038",
     "status": "completed"
    },
    "tags": []
   },
   "outputs": [
    {
     "data": {
      "text/html": [
       "<iframe\n",
       "    scrolling=\"no\"\n",
       "    width=\"770px\"\n",
       "    height=\"520\"\n",
       "    src=\"iframe_figures/figure_17.html\"\n",
       "    frameborder=\"0\"\n",
       "    allowfullscreen\n",
       "></iframe>\n"
      ]
     },
     "metadata": {},
     "output_type": "display_data"
    }
   ],
   "source": [
    "fig = go.Figure()\n",
    "\n",
    "fig.add_trace(go.Bar(\n",
    "    x=data['Club'],\n",
    "    y=data['Goals with right foot'],\n",
    "    name='Right foot goals',\n",
    "    marker_color='indianred'\n",
    "))\n",
    "fig.add_trace(go.Bar(\n",
    "    x=data['Club'],\n",
    "    y=data['Goals with left foot'],\n",
    "    name='Left foot goals',\n",
    "   marker_color='lightsalmon'\n",
    "))\n",
    "\n",
    "fig.add_trace(go.Bar(\n",
    "    x=data['Club'],\n",
    "    y=data['Headed goals'],\n",
    "    name='Headers',\n",
    "   marker_color='lightseagreen'\n",
    "))\n",
    "\n",
    "fig.update_layout(barmode='group',)# xaxis_tickangle=-45)\n",
    "fig.update_layout(title_text=\"<b>Goal distribution by club<b>\",\n",
    "                  titlefont={'size': 24, 'family': 'Courier'},\n",
    "                  width=750,\n",
    "                  height =500,\n",
    "                  template='simple_white'\n",
    "                 )\n",
    "\n",
    "fig.show(renderer=\"iframe\")"
   ]
  },
  {
   "cell_type": "code",
   "execution_count": 18,
   "metadata": {
    "_kg_hide-input": true,
    "execution": {
     "iopub.execute_input": "2025-07-11T12:40:29.608401Z",
     "iopub.status.busy": "2025-07-11T12:40:29.603556Z",
     "iopub.status.idle": "2025-07-11T12:40:29.946841Z",
     "shell.execute_reply": "2025-07-11T12:40:29.946210Z",
     "shell.execute_reply.started": "2025-07-11T12:32:38.469903Z"
    },
    "papermill": {
     "duration": 0.378326,
     "end_time": "2025-07-11T12:40:29.946977",
     "exception": false,
     "start_time": "2025-07-11T12:40:29.568651",
     "status": "completed"
    },
    "tags": []
   },
   "outputs": [
    {
     "data": {
      "text/html": [
       "<iframe\n",
       "    scrolling=\"no\"\n",
       "    width=\"520px\"\n",
       "    height=\"520\"\n",
       "    src=\"iframe_figures/figure_18.html\"\n",
       "    frameborder=\"0\"\n",
       "    allowfullscreen\n",
       "></iframe>\n"
      ]
     },
     "metadata": {},
     "output_type": "display_data"
    },
    {
     "data": {
      "text/html": [
       "<iframe\n",
       "    scrolling=\"no\"\n",
       "    width=\"520px\"\n",
       "    height=\"520\"\n",
       "    src=\"iframe_figures/figure_18.html\"\n",
       "    frameborder=\"0\"\n",
       "    allowfullscreen\n",
       "></iframe>\n"
      ]
     },
     "metadata": {},
     "output_type": "display_data"
    },
    {
     "data": {
      "text/html": [
       "<iframe\n",
       "    scrolling=\"no\"\n",
       "    width=\"520px\"\n",
       "    height=\"520\"\n",
       "    src=\"iframe_figures/figure_18.html\"\n",
       "    frameborder=\"0\"\n",
       "    allowfullscreen\n",
       "></iframe>\n"
      ]
     },
     "metadata": {},
     "output_type": "display_data"
    }
   ],
   "source": [
    "df = data\n",
    "\n",
    "fig = px.sunburst(df, path=['Position', 'Club'], values='Headed goals')\n",
    "fig.update_layout(title_text=\"<b>Headed goals (Club, position)<b>\",\n",
    "                  titlefont= {'size': 24},\n",
    "                  width=500, \n",
    "                  height=500)\n",
    "\n",
    "fig.show(renderer=\"iframe\")\n",
    "\n",
    "fig1 = px.sunburst(df, path=['Position', 'Club'], values='Goals with left foot')\n",
    "fig1.update_layout(title_text=\"<b>Left footed goals (Club, position<b>\", \n",
    "                   titlefont= {'size': 24,},\n",
    "                   width=500, \n",
    "                   height=500)\n",
    "\n",
    "fig1.show(renderer=\"iframe\")\n",
    "\n",
    "fig2 = px.sunburst(df, path=['Position', 'Club'], values='Goals with right foot')\n",
    "fig2.update_layout(title_text=\"<b>Right footed goals (Club, position)<b>\",\n",
    "                   titlefont= {'size': 24,},\n",
    "                   width=500, \n",
    "                   height=500)\n",
    "fig2.show(renderer=\"iframe\")"
   ]
  },
  {
   "cell_type": "code",
   "execution_count": 19,
   "metadata": {
    "_kg_hide-input": true,
    "execution": {
     "iopub.execute_input": "2025-07-11T12:40:30.013108Z",
     "iopub.status.busy": "2025-07-11T12:40:30.011910Z",
     "iopub.status.idle": "2025-07-11T12:40:30.098496Z",
     "shell.execute_reply": "2025-07-11T12:40:30.097805Z",
     "shell.execute_reply.started": "2025-07-11T12:32:38.805637Z"
    },
    "papermill": {
     "duration": 0.123312,
     "end_time": "2025-07-11T12:40:30.098622",
     "exception": false,
     "start_time": "2025-07-11T12:40:29.975310",
     "status": "completed"
    },
    "tags": []
   },
   "outputs": [
    {
     "data": {
      "text/html": [
       "<iframe\n",
       "    scrolling=\"no\"\n",
       "    width=\"100%\"\n",
       "    height=\"545px\"\n",
       "    src=\"iframe_figures/figure_19.html\"\n",
       "    frameborder=\"0\"\n",
       "    allowfullscreen\n",
       "></iframe>\n"
      ]
     },
     "metadata": {},
     "output_type": "display_data"
    }
   ],
   "source": [
    "goals_groupedby_clubs=data.groupby(['Club']).agg({'Goals with left foot':sum, \n",
    "                                                  'Goals with right foot':sum, 'Headed goals': sum })\n",
    "\n",
    "\n",
    "all_nodes = ['Forwards', 'Midfielders', 'Defenders', 'Right foot goals', 'Left foot goals', 'Headed goals',\n",
    "           'Arsenal', 'Aston-Villa', 'Brighton-and-Hove-Albion', 'Burnley',\n",
    "           'Chelsea', 'Crystal-Palace', 'Everton', 'Fulham', 'Leeds-United',\n",
    "           'Leicester-City', 'Liverpool', 'Manchester-City', 'Manchester-United',\n",
    "           'Newcastle-United', 'Sheffield-United', 'Southampton',\n",
    "           'Tottenham-Hotspur', 'West-Bromwich-Albion', 'West-Ham-United',\n",
    "           'Wolverhampton-Wanderers']\n",
    "\n",
    "\n",
    "# source nodes\n",
    "list_1 = [0,1,2]\n",
    "list_2 = [3,4,5]\n",
    "source = 3*list_1 + 20*list_2\n",
    "\n",
    "\n",
    "# target nodes \n",
    "target = []\n",
    "for tar in range(3, 26):\n",
    "    target.extend(repeat(tar, 3))\n",
    "    \n",
    "#     \n",
    "R = goals_groupedby_clubs['Goals with right foot'].values\n",
    "L = goals_groupedby_clubs['Goals with left foot'].values\n",
    "H = goals_groupedby_clubs['Headed goals'].values\n",
    "\n",
    "# \n",
    "goals_scored = []\n",
    "for i in range(len(R)):\n",
    "    goals_scored.append(R[i])\n",
    "    goals_scored.append(L[i])\n",
    "    goals_scored.append(H[i])\n",
    "    \n",
    "value = [rfg_f, rfg_m, rfg_d, lfg_f, lfg_m, lfg_d, hg_f, hg_m, hg_d] + goals_scored\n",
    "\n",
    "\n",
    "fig = go.Figure(\n",
    "      data=[go.Sankey(\n",
    "      node = dict(\n",
    "      pad = 2,\n",
    "      thickness = 75,\n",
    "      line = dict(color = \"gray\", width = 0.75),\n",
    "      label = all_nodes,      \n",
    "      color = ['#67AEE1', '#ff6e4a', '#48bf91'] +\n",
    "          3*['gold'] + 20*['#babad4']#node_colors\n",
    "          \n",
    "    ),\n",
    "    \n",
    "    link = dict(\n",
    "       source = source,               \n",
    "        \n",
    "       target = target,\n",
    "     \n",
    "       value =  value,\n",
    "              \n",
    "       color = 26*['#94C6EA', '#ffb6a4', '#a3dfc8'],\n",
    "       #color = 26*['#d8d8d8', '#a7a7a7', '#4f4f4f']\n",
    "))])\n",
    "\n",
    "fig.update_layout(title_text=\"<b> Distribution of goals: <b> \"\\\n",
    "                  '<br><span style=\"font-size:16px; color: darkgray\"> By player position, club and part-of-body scored by',\n",
    "                  titlefont={'size': 28, 'family': 'Courier'})\n",
    "fig.update_traces(textfont_family='Courier', selector=dict(type='sankey'))\n",
    "fig.show(renderer=\"iframe\")"
   ]
  },
  {
   "cell_type": "markdown",
   "metadata": {
    "papermill": {
     "duration": 0.027652,
     "end_time": "2025-07-11T12:40:30.154250",
     "exception": false,
     "start_time": "2025-07-11T12:40:30.126598",
     "status": "completed"
    },
    "tags": []
   },
   "source": [
    "<a href=\"#top\">Back to top</a>  \n",
    "### 4.2 Unwanted records <a class=\"anchor\" id=\"4.2\"></a>\n",
    "\n",
    "Of course like in everyday-life, sometimes things happen in football wheather players like it or not. In football terms own goals, assisting the wrong player (aka error leading to a goal), being sent-off are some of the major ones. Let's see who are the unfortunate ones.\n",
    "\n",
    "**Summary**\n",
    "\n",
    "- Surprisingly Sergio Aguero (who's the top scorer) is also a big chance squanderer. \n",
    "- Joe Hart is error prone. No wonder Pep Guardiola has shown him the doors when he took-over at Manchester City.\n",
    "- Phil Jagielka love his own net, i.e has more own goals.\n",
    "- No wonder Mark Nobel is the biggest losser with so many recards to his name.\n",
    "- Wondered how many times Gabriel Jesus calls his own name (swears)? 0.56 time per game (that is his big chances missed per game)\n"
   ]
  },
  {
   "cell_type": "code",
   "execution_count": 20,
   "metadata": {
    "_kg_hide-input": true,
    "execution": {
     "iopub.execute_input": "2025-07-11T12:40:30.269110Z",
     "iopub.status.busy": "2025-07-11T12:40:30.237965Z",
     "iopub.status.idle": "2025-07-11T12:40:30.432064Z",
     "shell.execute_reply": "2025-07-11T12:40:30.431519Z",
     "shell.execute_reply.started": "2025-07-11T12:32:38.896287Z"
    },
    "papermill": {
     "duration": 0.249939,
     "end_time": "2025-07-11T12:40:30.432182",
     "exception": false,
     "start_time": "2025-07-11T12:40:30.182243",
     "status": "completed"
    },
    "tags": []
   },
   "outputs": [
    {
     "data": {
      "text/html": [
       "<iframe\n",
       "    scrolling=\"no\"\n",
       "    width=\"1220px\"\n",
       "    height=\"1120\"\n",
       "    src=\"iframe_figures/figure_20.html\"\n",
       "    frameborder=\"0\"\n",
       "    allowfullscreen\n",
       "></iframe>\n"
      ]
     },
     "metadata": {},
     "output_type": "display_data"
    }
   ],
   "source": [
    "unwanted_records = ['Losses', 'Big chances missed','Own goals','Errors leading to goal', 'Red cards'] \n",
    "col=2\n",
    "row=5\n",
    "\n",
    "top = 5\n",
    "fig = make_subplots(\n",
    "    rows=5, cols=2,\n",
    "    subplot_titles=('Losses (overall)', 'Losses (per-game)','Big chances missed (overall)','Big chances missed (per-game)',\n",
    "                    'Own goals (overall)','Own goals (per-game)', 'Errors leading to goal (overall)',\n",
    "                    'Errors leading to goal (per-game)','Red cards (overall)', 'Red cards (per-game)'))\n",
    "\n",
    "for i, atr in enumerate(unwanted_records):\n",
    "    df = data_38app.sort_values(atr, ascending=False).head(top)\n",
    "    fig.add_trace(go.Bar(x=df['Name'], \n",
    "         y=-df[atr],\n",
    "         orientation='v'),\n",
    "         row=i+1, col=1)\n",
    "\n",
    "for j, atr in enumerate(unwanted_records):    \n",
    "    df = all_players.sort_values(atr, ascending=False).head(top)\n",
    "    fig.add_trace(go.Bar(x=df['Name'], \n",
    "         y=-df[atr],\n",
    "         orientation='v'),\n",
    "         row=j+1, col=2)\n",
    "       \n",
    "    fig.update_traces(marker_color= ['rgb(255, 0, 0)'],\n",
    "                  marker_line_width=2.5, opacity=0.6)\n",
    "\n",
    "fig.update_layout(title_text='<b> List of the unfortunates <b>',\n",
    "                  titlefont={'size': 28, 'family':'Courier'},\n",
    "                  showlegend=False,\n",
    "                  autosize=False, \n",
    "                  width=1200, height=1100,\n",
    "                  paper_bgcolor='lightgray',\n",
    "                  plot_bgcolor='lightgray',\n",
    "                 )\n",
    "fig.show(renderer=\"iframe\")\n"
   ]
  },
  {
   "cell_type": "markdown",
   "metadata": {
    "papermill": {
     "duration": 0.028141,
     "end_time": "2025-07-11T12:40:30.489995",
     "exception": false,
     "start_time": "2025-07-11T12:40:30.461854",
     "status": "completed"
    },
    "tags": []
   },
   "source": [
    "## 5. Closing Remarks  <a class=\"anchor\" id=\"5\"></a>\n",
    "\n",
    "- This exploration was a simple EDA and one point on a learning-curve in data visualizations and analysis. Football being the dataset, I enjoyed the process. \n",
    "- In the process of doing this EDA I also learned an excellent data visualization library, plotly. It is an interactive and customizable library with several option to choose from. \n",
    "- However, I was slightly dissapointed that the dataset was not updated to include the games until the end of the full season 2020/21. Some of the stats would certainly have changed the part conclusions. For example, Harry Kane ended the season as top goal scorer with 23 goals and would have claimed the top spot in one or more of the columns in \"Top 10 goal scorers\" table.\n",
    "\n",
    "\n"
   ]
  },
  {
   "cell_type": "markdown",
   "metadata": {
    "papermill": {
     "duration": 0.027534,
     "end_time": "2025-07-11T12:40:30.546044",
     "exception": false,
     "start_time": "2025-07-11T12:40:30.518510",
     "status": "completed"
    },
    "tags": []
   },
   "source": [
    "## 6. References <a class=\"anchor\" id=\"6\"></a>\n",
    "\n",
    "1. [The Premier League](https://en.wikipedia.org/wiki/Premier_League)\n",
    "2. [The 10 most expensive goalkeepers](https://www.espn.com/soccer/soccer-transfers/story/3135816/the-10-most-expensive-goalkeepers-kepa-alisson-becker-courtois-ederson)\n",
    "3. [10 most expensive defenders of all time](https://www.kickoff.com/news/articles/world-news/categories/news/english-premier-league/the-10-most-expensive-defenders-of-all-time/681803?gallery=681803&gallery-page=11#ig)\n",
    "4. https://plotly.com/"
   ]
  },
  {
   "cell_type": "markdown",
   "metadata": {
    "papermill": {
     "duration": 0.02851,
     "end_time": "2025-07-11T12:40:30.602344",
     "exception": false,
     "start_time": "2025-07-11T12:40:30.573834",
     "status": "completed"
    },
    "tags": []
   },
   "source": [
    "<div>    \n",
    "<img src=\"https://www.collinsdictionary.com/images/full/goldengoal_110918564.jpg\" width=\"250\"/>   \n",
    "</div>\n",
    "\n",
    "\n",
    "###  <span align=\"center\" style= 'background:skyblue'> Thank you very much for reading this notebook! </span> \n",
    "\n",
    "  "
   ]
  },
  {
   "cell_type": "markdown",
   "metadata": {
    "papermill": {
     "duration": 0.0285,
     "end_time": "2025-07-11T12:40:30.659794",
     "exception": false,
     "start_time": "2025-07-11T12:40:30.631294",
     "status": "completed"
    },
    "tags": []
   },
   "source": [
    "<a href=\"#top\">Back to top</a>"
   ]
  }
 ],
 "metadata": {
  "kaggle": {
   "accelerator": "none",
   "dataSources": [
    {
     "datasetId": 889428,
     "sourceId": 1511343,
     "sourceType": "datasetVersion"
    }
   ],
   "dockerImageVersionId": 30042,
   "isGpuEnabled": false,
   "isInternetEnabled": true,
   "language": "python",
   "sourceType": "notebook"
  },
  "kernelspec": {
   "display_name": "Python 3",
   "language": "python",
   "name": "python3"
  },
  "language_info": {
   "codemirror_mode": {
    "name": "ipython",
    "version": 3
   },
   "file_extension": ".py",
   "mimetype": "text/x-python",
   "name": "python",
   "nbconvert_exporter": "python",
   "pygments_lexer": "ipython3",
   "version": "3.7.6"
  },
  "papermill": {
   "duration": 12.498021,
   "end_time": "2025-07-11T12:40:30.796522",
   "environment_variables": {},
   "exception": null,
   "input_path": "__notebook__.ipynb",
   "output_path": "__notebook__.ipynb",
   "parameters": {},
   "start_time": "2025-07-11T12:40:18.298501",
   "version": "2.1.0"
  }
 },
 "nbformat": 4,
 "nbformat_minor": 4
}
